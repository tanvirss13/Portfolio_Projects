{
 "cells": [
  {
   "attachments": {},
   "cell_type": "markdown",
   "metadata": {},
   "source": [
    "<h1> Simple Regression Techniques </h1>"
   ]
  },
  {
   "cell_type": "code",
   "execution_count": 2,
   "metadata": {},
   "outputs": [],
   "source": [
    "import pandas as pd\n",
    "import pandas_datareader as pdr\n",
    "import numpy as np\n",
    "import yfinance as fin\n",
    "import datetime as dt\n",
    "import quandl as qdl\n",
    "import os\n",
    "from scipy import stats\n",
    "import matplotlib.pyplot as plt\n",
    "from matplotlib import rcParams\n",
    "rcParams['figure.figsize'] = 8,6\n",
    "import seaborn as sb\n",
    "sb.set()"
   ]
  },
  {
   "attachments": {},
   "cell_type": "markdown",
   "metadata": {},
   "source": [
    "<h4> Get data for SPY and GOOG </h4>"
   ]
  },
  {
   "cell_type": "code",
   "execution_count": 6,
   "metadata": {},
   "outputs": [],
   "source": [
    "stocks = \"GOOG SPY\".split()\n",
    "start = dt.date.today()-dt.timedelta(365)"
   ]
  },
  {
   "cell_type": "code",
   "execution_count": 7,
   "metadata": {},
   "outputs": [
    {
     "name": "stdout",
     "output_type": "stream",
     "text": [
      "[*********************100%***********************]  2 of 2 completed\n"
     ]
    },
    {
     "data": {
      "text/html": [
       "<div>\n",
       "<style scoped>\n",
       "    .dataframe tbody tr th:only-of-type {\n",
       "        vertical-align: middle;\n",
       "    }\n",
       "\n",
       "    .dataframe tbody tr th {\n",
       "        vertical-align: top;\n",
       "    }\n",
       "\n",
       "    .dataframe thead th {\n",
       "        text-align: right;\n",
       "    }\n",
       "</style>\n",
       "<table border=\"1\" class=\"dataframe\">\n",
       "  <thead>\n",
       "    <tr style=\"text-align: right;\">\n",
       "      <th></th>\n",
       "      <th>GOOG</th>\n",
       "      <th>SPY</th>\n",
       "    </tr>\n",
       "    <tr>\n",
       "      <th>Date</th>\n",
       "      <th></th>\n",
       "      <th></th>\n",
       "    </tr>\n",
       "  </thead>\n",
       "  <tbody>\n",
       "    <tr>\n",
       "      <th>2022-02-03 00:00:00-05:00</th>\n",
       "      <td>142.650497</td>\n",
       "      <td>439.470337</td>\n",
       "    </tr>\n",
       "    <tr>\n",
       "      <th>2022-02-04 00:00:00-05:00</th>\n",
       "      <td>143.016006</td>\n",
       "      <td>441.536804</td>\n",
       "    </tr>\n",
       "    <tr>\n",
       "      <th>2022-02-07 00:00:00-05:00</th>\n",
       "      <td>138.938004</td>\n",
       "      <td>440.119812</td>\n",
       "    </tr>\n",
       "    <tr>\n",
       "      <th>2022-02-08 00:00:00-05:00</th>\n",
       "      <td>139.212997</td>\n",
       "      <td>443.741028</td>\n",
       "    </tr>\n",
       "    <tr>\n",
       "      <th>2022-02-09 00:00:00-05:00</th>\n",
       "      <td>141.453003</td>\n",
       "      <td>450.235687</td>\n",
       "    </tr>\n",
       "  </tbody>\n",
       "</table>\n",
       "</div>"
      ],
      "text/plain": [
       "                                 GOOG         SPY\n",
       "Date                                             \n",
       "2022-02-03 00:00:00-05:00  142.650497  439.470337\n",
       "2022-02-04 00:00:00-05:00  143.016006  441.536804\n",
       "2022-02-07 00:00:00-05:00  138.938004  440.119812\n",
       "2022-02-08 00:00:00-05:00  139.212997  443.741028\n",
       "2022-02-09 00:00:00-05:00  141.453003  450.235687"
      ]
     },
     "execution_count": 7,
     "metadata": {},
     "output_type": "execute_result"
    }
   ],
   "source": [
    "data = fin.Tickers(stocks)\n",
    "data_hist = pd.DataFrame(data.history(start=start)['Close'])\n",
    "data_hist.head()"
   ]
  },
  {
   "cell_type": "code",
   "execution_count": 8,
   "metadata": {},
   "outputs": [
    {
     "data": {
      "text/html": [
       "<div>\n",
       "<style scoped>\n",
       "    .dataframe tbody tr th:only-of-type {\n",
       "        vertical-align: middle;\n",
       "    }\n",
       "\n",
       "    .dataframe tbody tr th {\n",
       "        vertical-align: top;\n",
       "    }\n",
       "\n",
       "    .dataframe thead th {\n",
       "        text-align: right;\n",
       "    }\n",
       "</style>\n",
       "<table border=\"1\" class=\"dataframe\">\n",
       "  <thead>\n",
       "    <tr style=\"text-align: right;\">\n",
       "      <th></th>\n",
       "      <th>GOOG</th>\n",
       "      <th>SPY</th>\n",
       "    </tr>\n",
       "    <tr>\n",
       "      <th>Date</th>\n",
       "      <th></th>\n",
       "      <th></th>\n",
       "    </tr>\n",
       "  </thead>\n",
       "  <tbody>\n",
       "    <tr>\n",
       "      <th>2022-02-04 00:00:00-05:00</th>\n",
       "      <td>0.002559</td>\n",
       "      <td>0.004691</td>\n",
       "    </tr>\n",
       "    <tr>\n",
       "      <th>2022-02-07 00:00:00-05:00</th>\n",
       "      <td>-0.028929</td>\n",
       "      <td>-0.003214</td>\n",
       "    </tr>\n",
       "    <tr>\n",
       "      <th>2022-02-08 00:00:00-05:00</th>\n",
       "      <td>0.001977</td>\n",
       "      <td>0.008194</td>\n",
       "    </tr>\n",
       "    <tr>\n",
       "      <th>2022-02-09 00:00:00-05:00</th>\n",
       "      <td>0.015962</td>\n",
       "      <td>0.014530</td>\n",
       "    </tr>\n",
       "    <tr>\n",
       "      <th>2022-02-10 00:00:00-05:00</th>\n",
       "      <td>-0.020357</td>\n",
       "      <td>-0.018129</td>\n",
       "    </tr>\n",
       "  </tbody>\n",
       "</table>\n",
       "</div>"
      ],
      "text/plain": [
       "                               GOOG       SPY\n",
       "Date                                         \n",
       "2022-02-04 00:00:00-05:00  0.002559  0.004691\n",
       "2022-02-07 00:00:00-05:00 -0.028929 -0.003214\n",
       "2022-02-08 00:00:00-05:00  0.001977  0.008194\n",
       "2022-02-09 00:00:00-05:00  0.015962  0.014530\n",
       "2022-02-10 00:00:00-05:00 -0.020357 -0.018129"
      ]
     },
     "execution_count": 8,
     "metadata": {},
     "output_type": "execute_result"
    }
   ],
   "source": [
    "returns = (np.log(data_hist).diff()).dropna()\n",
    "returns.head()"
   ]
  },
  {
   "attachments": {},
   "cell_type": "markdown",
   "metadata": {},
   "source": [
    "<h6>  </h6>"
   ]
  },
  {
   "attachments": {},
   "cell_type": "markdown",
   "metadata": {},
   "source": [
    "<h5> Calculating the correlation between Google and the S&P. </h5>"
   ]
  },
  {
   "cell_type": "code",
   "execution_count": 9,
   "metadata": {},
   "outputs": [
    {
     "data": {
      "text/html": [
       "<div>\n",
       "<style scoped>\n",
       "    .dataframe tbody tr th:only-of-type {\n",
       "        vertical-align: middle;\n",
       "    }\n",
       "\n",
       "    .dataframe tbody tr th {\n",
       "        vertical-align: top;\n",
       "    }\n",
       "\n",
       "    .dataframe thead th {\n",
       "        text-align: right;\n",
       "    }\n",
       "</style>\n",
       "<table border=\"1\" class=\"dataframe\">\n",
       "  <thead>\n",
       "    <tr style=\"text-align: right;\">\n",
       "      <th></th>\n",
       "      <th>GOOG</th>\n",
       "      <th>SPY</th>\n",
       "    </tr>\n",
       "  </thead>\n",
       "  <tbody>\n",
       "    <tr>\n",
       "      <th>GOOG</th>\n",
       "      <td>1.000000</td>\n",
       "      <td>0.795603</td>\n",
       "    </tr>\n",
       "    <tr>\n",
       "      <th>SPY</th>\n",
       "      <td>0.795603</td>\n",
       "      <td>1.000000</td>\n",
       "    </tr>\n",
       "  </tbody>\n",
       "</table>\n",
       "</div>"
      ],
      "text/plain": [
       "          GOOG       SPY\n",
       "GOOG  1.000000  0.795603\n",
       "SPY   0.795603  1.000000"
      ]
     },
     "execution_count": 9,
     "metadata": {},
     "output_type": "execute_result"
    }
   ],
   "source": [
    "samp = returns.corr()\n",
    "sample = returns.sample(60).corr()\n",
    "sample"
   ]
  },
  {
   "attachments": {},
   "cell_type": "markdown",
   "metadata": {},
   "source": [
    "<ul>\n",
    "    <li> We can see that the S&P and Google are strongly correlated.  </li>\n",
    "    <li> Looking at the correlations there is a question that arises. Since, Google is so large as a company and highly correlated to S&P, is it Google that is driving the S&P or vice-versa?  </li>\n",
    "    <li> This question may not be that easily answered though. </li>\n",
    "</ul>"
   ]
  },
  {
   "cell_type": "code",
   "execution_count": 10,
   "metadata": {},
   "outputs": [
    {
     "data": {
      "text/plain": [
       "<matplotlib.collections.PathCollection at 0x24e1e0742b0>"
      ]
     },
     "execution_count": 10,
     "metadata": {},
     "output_type": "execute_result"
    },
    {
     "data": {
      "image/png": "[encoded data removed]",
      "text/plain": [
       "<Figure size 800x600 with 1 Axes>"
      ]
     },
     "metadata": {},
     "output_type": "display_data"
    }
   ],
   "source": [
    "n_sample = returns.sample(60)\n",
    "plt.scatter(x=n_sample['SPY'], y=n_sample['GOOG'])"
   ]
  },
  {
   "attachments": {},
   "cell_type": "markdown",
   "metadata": {},
   "source": [
    "<ul>\n",
    "    <li> Now we would run some statistical tests to make sure this linear relationship is a good one to model. </li>\n",
    "    <li> We are going to fit the linear model. </li>\n",
    "</ul>"
   ]
  },
  {
   "cell_type": "code",
   "execution_count": 11,
   "metadata": {},
   "outputs": [
    {
     "data": {
      "text/plain": [
       "array([ 1.42600519e+00, -9.41605623e-04])"
      ]
     },
     "execution_count": 11,
     "metadata": {},
     "output_type": "execute_result"
    }
   ],
   "source": [
    "regr = np.polyfit(n_sample['SPY'], n_sample['GOOG'], deg = 1)\n",
    "regr"
   ]
  },
  {
   "attachments": {},
   "cell_type": "markdown",
   "metadata": {},
   "source": [
    "<li> For every 1.2% that S&P goes up we can expect Google to go up 1.6%. </li>\n",
    "<li> This is equivalent to what we predict beta value  is. </li>"
   ]
  },
  {
   "cell_type": "code",
   "execution_count": 12,
   "metadata": {},
   "outputs": [
    {
     "data": {
      "text/plain": [
       "[<matplotlib.lines.Line2D at 0x24e2016ec50>]"
      ]
     },
     "execution_count": 12,
     "metadata": {},
     "output_type": "execute_result"
    },
    {
     "data": {
      "image/png": "[encoded data removed]",
      "text/plain": [
       "<Figure size 800x600 with 1 Axes>"
      ]
     },
     "metadata": {},
     "output_type": "display_data"
    }
   ],
   "source": [
    "trend = np.polyval(regr, n_sample['SPY'])\n",
    "plt.scatter(n_sample['SPY'], n_sample['GOOG'])\n",
    "plt.plot(n_sample[\"SPY\"], trend, 'r')"
   ]
  }
 ],
 "metadata": {
  "kernelspec": {
   "display_name": "Python 3",
   "language": "python",
   "name": "python3"
  },
  "language_info": {
   "codemirror_mode": {
    "name": "ipython",
    "version": 3
   },
   "file_extension": ".py",
   "mimetype": "text/x-python",
   "name": "python",
   "nbconvert_exporter": "python",
   "pygments_lexer": "ipython3",
   "version": "3.10.9"
  },
  "orig_nbformat": 4,
  "vscode": {
   "interpreter": {
    "hash": "62fa236e682458962f4073196426f9cb543745cfe6ded415d2941efab9cbcbe2"
   }
  }
 },
 "nbformat": 4,
 "nbformat_minor": 2
}
