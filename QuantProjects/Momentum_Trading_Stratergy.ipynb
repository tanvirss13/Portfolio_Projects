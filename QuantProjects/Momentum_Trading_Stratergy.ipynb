{
 "cells": [
  {
   "attachments": {},
   "cell_type": "markdown",
   "metadata": {},
   "source": [
    "<h1> \"Momentum\" Trading Stratergy </h1>\n",
    "<ul>\n",
    "    <li> Momentum strategy may be an ill-defined term and can mean a lot of different things. </li>\n",
    "    <li> But what we will be looking for is a security or securities that are moving in a specific direction. </li>\n",
    "        <ul>\n",
    "            <li> We will screen and take into consideration securities that are above thier 50-day moving average. </li>\n",
    "        </ul>\n",
    "    <li> We can call this a <b> trend following stratergy </b>. </li>\n",
    "        <ul>\n",
    "            <li> We can make money as the security moves up and as it moves down. </li>\n",
    "        </ul>\n",
    "    <li> There is still research to be done on some trading signals that may be profitable before we start using them in the stratergy. </li>\n",
    "    <li> Also, we would want to to generalize the signals to a number of securities. </li>\n",
    "</ul>"
   ]
  },
  {
   "cell_type": "code",
   "execution_count": 24,
   "metadata": {},
   "outputs": [],
   "source": [
    "import numpy as np\n",
    "import pandas as pd\n",
    "import pandas_datareader as pdr\n",
    "import matplotlib.pyplot as plt\n",
    "import yfinance as fin\n",
    "from matplotlib import rcParams\n",
    "import datetime as dt"
   ]
  },
  {
   "attachments": {},
   "cell_type": "markdown",
   "metadata": {},
   "source": [
    "<h3> 1. Download Data </h3>\n",
    "<ul>\n",
    "    <li> Typically trading \"systems\" involve a number of securities. </li>\n",
    "    <li> In this stratergy I will be using GLD --> the gold ETF. </li>\n",
    "</ul>"
   ]
  },
  {
   "cell_type": "code",
   "execution_count": 25,
   "metadata": {},
   "outputs": [],
   "source": [
    "start_date = dt.datetime(2012,5,18)\n",
    "end_date = dt.datetime(2023,1,10)\n",
    "gold = fin.Ticker('GLD')\n",
    "gold_hist = pd.DataFrame(gold.history(start = start_date, end = end_date))"
   ]
  },
  {
   "cell_type": "code",
   "execution_count": 26,
   "metadata": {},
   "outputs": [
    {
     "data": {
      "text/html": [
       "<div>\n",
       "<style scoped>\n",
       "    .dataframe tbody tr th:only-of-type {\n",
       "        vertical-align: middle;\n",
       "    }\n",
       "\n",
       "    .dataframe tbody tr th {\n",
       "        vertical-align: top;\n",
       "    }\n",
       "\n",
       "    .dataframe thead th {\n",
       "        text-align: right;\n",
       "    }\n",
       "</style>\n",
       "<table border=\"1\" class=\"dataframe\">\n",
       "  <thead>\n",
       "    <tr style=\"text-align: right;\">\n",
       "      <th></th>\n",
       "      <th>Open</th>\n",
       "      <th>High</th>\n",
       "      <th>Low</th>\n",
       "      <th>Close</th>\n",
       "      <th>Volume</th>\n",
       "      <th>Dividends</th>\n",
       "      <th>Stock Splits</th>\n",
       "      <th>Capital Gains</th>\n",
       "    </tr>\n",
       "    <tr>\n",
       "      <th>Date</th>\n",
       "      <th></th>\n",
       "      <th></th>\n",
       "      <th></th>\n",
       "      <th></th>\n",
       "      <th></th>\n",
       "      <th></th>\n",
       "      <th></th>\n",
       "      <th></th>\n",
       "    </tr>\n",
       "  </thead>\n",
       "  <tbody>\n",
       "    <tr>\n",
       "      <th>2012-05-18 00:00:00-04:00</th>\n",
       "      <td>154.460007</td>\n",
       "      <td>155.130005</td>\n",
       "      <td>153.970001</td>\n",
       "      <td>154.550003</td>\n",
       "      <td>12994200</td>\n",
       "      <td>0.0</td>\n",
       "      <td>0.0</td>\n",
       "      <td>0.0</td>\n",
       "    </tr>\n",
       "    <tr>\n",
       "      <th>2012-05-21 00:00:00-04:00</th>\n",
       "      <td>154.110001</td>\n",
       "      <td>154.949997</td>\n",
       "      <td>153.860001</td>\n",
       "      <td>154.649994</td>\n",
       "      <td>7542400</td>\n",
       "      <td>0.0</td>\n",
       "      <td>0.0</td>\n",
       "      <td>0.0</td>\n",
       "    </tr>\n",
       "    <tr>\n",
       "      <th>2012-05-22 00:00:00-04:00</th>\n",
       "      <td>153.589996</td>\n",
       "      <td>154.419998</td>\n",
       "      <td>151.550003</td>\n",
       "      <td>152.080002</td>\n",
       "      <td>11302700</td>\n",
       "      <td>0.0</td>\n",
       "      <td>0.0</td>\n",
       "      <td>0.0</td>\n",
       "    </tr>\n",
       "    <tr>\n",
       "      <th>2012-05-23 00:00:00-04:00</th>\n",
       "      <td>151.500000</td>\n",
       "      <td>151.839996</td>\n",
       "      <td>148.839996</td>\n",
       "      <td>151.619995</td>\n",
       "      <td>18854500</td>\n",
       "      <td>0.0</td>\n",
       "      <td>0.0</td>\n",
       "      <td>0.0</td>\n",
       "    </tr>\n",
       "    <tr>\n",
       "      <th>2012-05-24 00:00:00-04:00</th>\n",
       "      <td>152.710007</td>\n",
       "      <td>152.910004</td>\n",
       "      <td>150.619995</td>\n",
       "      <td>151.410004</td>\n",
       "      <td>9697100</td>\n",
       "      <td>0.0</td>\n",
       "      <td>0.0</td>\n",
       "      <td>0.0</td>\n",
       "    </tr>\n",
       "  </tbody>\n",
       "</table>\n",
       "</div>"
      ],
      "text/plain": [
       "                                 Open        High         Low       Close  \\\n",
       "Date                                                                        \n",
       "2012-05-18 00:00:00-04:00  154.460007  155.130005  153.970001  154.550003   \n",
       "2012-05-21 00:00:00-04:00  154.110001  154.949997  153.860001  154.649994   \n",
       "2012-05-22 00:00:00-04:00  153.589996  154.419998  151.550003  152.080002   \n",
       "2012-05-23 00:00:00-04:00  151.500000  151.839996  148.839996  151.619995   \n",
       "2012-05-24 00:00:00-04:00  152.710007  152.910004  150.619995  151.410004   \n",
       "\n",
       "                             Volume  Dividends  Stock Splits  Capital Gains  \n",
       "Date                                                                         \n",
       "2012-05-18 00:00:00-04:00  12994200        0.0           0.0            0.0  \n",
       "2012-05-21 00:00:00-04:00   7542400        0.0           0.0            0.0  \n",
       "2012-05-22 00:00:00-04:00  11302700        0.0           0.0            0.0  \n",
       "2012-05-23 00:00:00-04:00  18854500        0.0           0.0            0.0  \n",
       "2012-05-24 00:00:00-04:00   9697100        0.0           0.0            0.0  "
      ]
     },
     "execution_count": 26,
     "metadata": {},
     "output_type": "execute_result"
    }
   ],
   "source": [
    "gold_hist.head()"
   ]
  },
  {
   "cell_type": "code",
   "execution_count": 27,
   "metadata": {},
   "outputs": [],
   "source": [
    "Day = np.arange(1, len(gold_hist)+1)\n",
    "gold_hist['Day'] = Day\n",
    "gold_hist.drop(columns = ['Volume', 'Dividends', 'Stock Splits', 'Capital Gains'], inplace = True)\n",
    "gold_hist = gold_hist[['Day', 'Open', 'High', 'Low', 'Close']]"
   ]
  },
  {
   "cell_type": "code",
   "execution_count": 28,
   "metadata": {},
   "outputs": [
    {
     "data": {
      "text/html": [
       "<div>\n",
       "<style scoped>\n",
       "    .dataframe tbody tr th:only-of-type {\n",
       "        vertical-align: middle;\n",
       "    }\n",
       "\n",
       "    .dataframe tbody tr th {\n",
       "        vertical-align: top;\n",
       "    }\n",
       "\n",
       "    .dataframe thead th {\n",
       "        text-align: right;\n",
       "    }\n",
       "</style>\n",
       "<table border=\"1\" class=\"dataframe\">\n",
       "  <thead>\n",
       "    <tr style=\"text-align: right;\">\n",
       "      <th></th>\n",
       "      <th>Day</th>\n",
       "      <th>Open</th>\n",
       "      <th>High</th>\n",
       "      <th>Low</th>\n",
       "      <th>Close</th>\n",
       "    </tr>\n",
       "    <tr>\n",
       "      <th>Date</th>\n",
       "      <th></th>\n",
       "      <th></th>\n",
       "      <th></th>\n",
       "      <th></th>\n",
       "      <th></th>\n",
       "    </tr>\n",
       "  </thead>\n",
       "  <tbody>\n",
       "    <tr>\n",
       "      <th>2012-05-18 00:00:00-04:00</th>\n",
       "      <td>1</td>\n",
       "      <td>154.460007</td>\n",
       "      <td>155.130005</td>\n",
       "      <td>153.970001</td>\n",
       "      <td>154.550003</td>\n",
       "    </tr>\n",
       "    <tr>\n",
       "      <th>2012-05-21 00:00:00-04:00</th>\n",
       "      <td>2</td>\n",
       "      <td>154.110001</td>\n",
       "      <td>154.949997</td>\n",
       "      <td>153.860001</td>\n",
       "      <td>154.649994</td>\n",
       "    </tr>\n",
       "    <tr>\n",
       "      <th>2012-05-22 00:00:00-04:00</th>\n",
       "      <td>3</td>\n",
       "      <td>153.589996</td>\n",
       "      <td>154.419998</td>\n",
       "      <td>151.550003</td>\n",
       "      <td>152.080002</td>\n",
       "    </tr>\n",
       "    <tr>\n",
       "      <th>2012-05-23 00:00:00-04:00</th>\n",
       "      <td>4</td>\n",
       "      <td>151.500000</td>\n",
       "      <td>151.839996</td>\n",
       "      <td>148.839996</td>\n",
       "      <td>151.619995</td>\n",
       "    </tr>\n",
       "    <tr>\n",
       "      <th>2012-05-24 00:00:00-04:00</th>\n",
       "      <td>5</td>\n",
       "      <td>152.710007</td>\n",
       "      <td>152.910004</td>\n",
       "      <td>150.619995</td>\n",
       "      <td>151.410004</td>\n",
       "    </tr>\n",
       "  </tbody>\n",
       "</table>\n",
       "</div>"
      ],
      "text/plain": [
       "                           Day        Open        High         Low       Close\n",
       "Date                                                                          \n",
       "2012-05-18 00:00:00-04:00    1  154.460007  155.130005  153.970001  154.550003\n",
       "2012-05-21 00:00:00-04:00    2  154.110001  154.949997  153.860001  154.649994\n",
       "2012-05-22 00:00:00-04:00    3  153.589996  154.419998  151.550003  152.080002\n",
       "2012-05-23 00:00:00-04:00    4  151.500000  151.839996  148.839996  151.619995\n",
       "2012-05-24 00:00:00-04:00    5  152.710007  152.910004  150.619995  151.410004"
      ]
     },
     "execution_count": 28,
     "metadata": {},
     "output_type": "execute_result"
    }
   ],
   "source": [
    "gold_hist.head()"
   ]
  },
  {
   "cell_type": "code",
   "execution_count": 29,
   "metadata": {},
   "outputs": [
    {
     "name": "stdout",
     "output_type": "stream",
     "text": [
      "<class 'pandas.core.frame.DataFrame'>\n",
      "DatetimeIndex: 2678 entries, 2012-05-18 00:00:00-04:00 to 2023-01-09 00:00:00-05:00\n",
      "Data columns (total 5 columns):\n",
      " #   Column  Non-Null Count  Dtype  \n",
      "---  ------  --------------  -----  \n",
      " 0   Day     2678 non-null   int32  \n",
      " 1   Open    2678 non-null   float64\n",
      " 2   High    2678 non-null   float64\n",
      " 3   Low     2678 non-null   float64\n",
      " 4   Close   2678 non-null   float64\n",
      "dtypes: float64(4), int32(1)\n",
      "memory usage: 115.1 KB\n"
     ]
    }
   ],
   "source": [
    "gold_hist.info()"
   ]
  },
  {
   "attachments": {},
   "cell_type": "markdown",
   "metadata": {},
   "source": [
    "<h3> 2. Add data/transform data </h3>\n",
    "<ul>\n",
    "    <li> Calculate signal based on some price or statistical acion </li>\n",
    "    <li> I will be using a moving average crossover to generate signals </li>\n",
    "    <li> For this stratergy I will always be \"in\" a trade, either long or short </li>\n",
    "    <li> This is just a model; this means in real life variation should be expected </li>\n",
    "</ul>"
   ]
  },
  {
   "attachments": {},
   "cell_type": "markdown",
   "metadata": {},
   "source": [
    "<h5> Add moving averages to the data frame </h5>"
   ]
  },
  {
   "cell_type": "code",
   "execution_count": null,
   "metadata": {},
   "outputs": [],
   "source": []
  }
 ],
 "metadata": {
  "kernelspec": {
   "display_name": "Python 3",
   "language": "python",
   "name": "python3"
  },
  "language_info": {
   "codemirror_mode": {
    "name": "ipython",
    "version": 3
   },
   "file_extension": ".py",
   "mimetype": "text/x-python",
   "name": "python",
   "nbconvert_exporter": "python",
   "pygments_lexer": "ipython3",
   "version": "3.10.9"
  },
  "orig_nbformat": 4,
  "vscode": {
   "interpreter": {
    "hash": "62fa236e682458962f4073196426f9cb543745cfe6ded415d2941efab9cbcbe2"
   }
  }
 },
 "nbformat": 4,
 "nbformat_minor": 2
}
