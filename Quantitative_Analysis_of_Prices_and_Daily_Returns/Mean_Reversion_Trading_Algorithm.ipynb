{
 "cells": [
  {
   "attachments": {},
   "cell_type": "markdown",
   "metadata": {},
   "source": [
    "<h1>Mean Reversion Trading Algorithm </h1>"
   ]
  },
  {
   "attachments": {},
   "cell_type": "markdown",
   "metadata": {},
   "source": [
    "<ul>\n",
    "    <li> Trading strategy that focuses on when a security moves away from the average. </li>\n",
    "    <li> General idea is that it will move back toward the mean (at some point). </li>\n",
    "    <li> A few ways to look at this strategy are, linear regression, moving average. </li>\n",
    "    <li> How far of the movement is too far? </li>\n",
    "</ul>"
   ]
  },
  {
   "cell_type": "code",
   "execution_count": 2,
   "metadata": {},
   "outputs": [],
   "source": [
    "import pandas as pd\n",
    "import pandas_datareader as pdr\n",
    "import numpy as np\n",
    "import yfinance as fin\n",
    "import datetime as dt\n",
    "import quandl as qdl\n",
    "import os\n",
    "from scipy import stats\n",
    "import matplotlib.pyplot as plt\n",
    "from matplotlib import rcParams\n",
    "rcParams['figure.figsize'] = 8,6\n",
    "import seaborn as sb\n",
    "sb.set()"
   ]
  },
  {
   "attachments": {},
   "cell_type": "markdown",
   "metadata": {},
   "source": [
    "<h5> Mean Reversion strategy assumes that a security is going to move back to the some kind of average whenever it moves too far away. Basically, it means it would move back to the mean at some point.</h5>"
   ]
  },
  {
   "cell_type": "code",
   "execution_count": 16,
   "metadata": {},
   "outputs": [],
   "source": [
    "start_date = dt.datetime(2012,5,18)\n",
    "end_date = dt.datetime(2023,1,10)\n",
    "gold = fin.Ticker('GLD')\n",
    "gold_hist = pd.DataFrame(gold.history(start = start_date, end = end_date)['Close'])"
   ]
  },
  {
   "cell_type": "code",
   "execution_count": 17,
   "metadata": {},
   "outputs": [
    {
     "data": {
      "text/html": [
       "<div>\n",
       "<style scoped>\n",
       "    .dataframe tbody tr th:only-of-type {\n",
       "        vertical-align: middle;\n",
       "    }\n",
       "\n",
       "    .dataframe tbody tr th {\n",
       "        vertical-align: top;\n",
       "    }\n",
       "\n",
       "    .dataframe thead th {\n",
       "        text-align: right;\n",
       "    }\n",
       "</style>\n",
       "<table border=\"1\" class=\"dataframe\">\n",
       "  <thead>\n",
       "    <tr style=\"text-align: right;\">\n",
       "      <th></th>\n",
       "      <th>Close</th>\n",
       "    </tr>\n",
       "    <tr>\n",
       "      <th>Date</th>\n",
       "      <th></th>\n",
       "    </tr>\n",
       "  </thead>\n",
       "  <tbody>\n",
       "    <tr>\n",
       "      <th>2012-05-18 00:00:00-04:00</th>\n",
       "      <td>154.550003</td>\n",
       "    </tr>\n",
       "    <tr>\n",
       "      <th>2012-05-21 00:00:00-04:00</th>\n",
       "      <td>154.649994</td>\n",
       "    </tr>\n",
       "    <tr>\n",
       "      <th>2012-05-22 00:00:00-04:00</th>\n",
       "      <td>152.080002</td>\n",
       "    </tr>\n",
       "    <tr>\n",
       "      <th>2012-05-23 00:00:00-04:00</th>\n",
       "      <td>151.619995</td>\n",
       "    </tr>\n",
       "    <tr>\n",
       "      <th>2012-05-24 00:00:00-04:00</th>\n",
       "      <td>151.410004</td>\n",
       "    </tr>\n",
       "  </tbody>\n",
       "</table>\n",
       "</div>"
      ],
      "text/plain": [
       "                                Close\n",
       "Date                                 \n",
       "2012-05-18 00:00:00-04:00  154.550003\n",
       "2012-05-21 00:00:00-04:00  154.649994\n",
       "2012-05-22 00:00:00-04:00  152.080002\n",
       "2012-05-23 00:00:00-04:00  151.619995\n",
       "2012-05-24 00:00:00-04:00  151.410004"
      ]
     },
     "execution_count": 17,
     "metadata": {},
     "output_type": "execute_result"
    }
   ],
   "source": [
    "gold_hist.head()"
   ]
  },
  {
   "cell_type": "code",
   "execution_count": 21,
   "metadata": {},
   "outputs": [],
   "source": [
    "moving_avg = 21\n",
    "gold_hist['Returns'] = np.exp(gold_hist['Close']).diff()\n",
    "gold_hist['Moving Avg'] = gold_hist['Close'].rolling(moving_avg).mean()\n",
    "\n",
    "# The ratio will decide if we go long or short\n",
    "## If we are far above it we would go short and we are too far below we will go long\n",
    "gold_hist['Ratio'] = gold_hist['Close']/gold_hist['Moving Avg']"
   ]
  },
  {
   "cell_type": "code",
   "execution_count": 20,
   "metadata": {},
   "outputs": [
    {
     "data": {
      "text/plain": [
       "count    2658.000000\n",
       "mean        1.000453\n",
       "std         0.023308\n",
       "min         0.862830\n",
       "25%         0.986657\n",
       "50%         1.000400\n",
       "75%         1.015304\n",
       "max         1.098813\n",
       "Name: Ratio, dtype: float64"
      ]
     },
     "execution_count": 20,
     "metadata": {},
     "output_type": "execute_result"
    }
   ],
   "source": [
    "gold_hist['Ratio'].describe()"
   ]
  },
  {
   "cell_type": "code",
   "execution_count": 22,
   "metadata": {},
   "outputs": [
    {
     "data": {
      "text/plain": [
       "array([0.96309618, 0.97200687, 1.00040039, 1.02846414, 1.03704418])"
      ]
     },
     "execution_count": 22,
     "metadata": {},
     "output_type": "execute_result"
    }
   ],
   "source": [
    "percentile = [5, 10, 50, 90, 95]\n",
    "np.percentile(gold_hist['Ratio'].dropna(), percentile)"
   ]
  }
 ],
 "metadata": {
  "kernelspec": {
   "display_name": "Python 3",
   "language": "python",
   "name": "python3"
  },
  "language_info": {
   "codemirror_mode": {
    "name": "ipython",
    "version": 3
   },
   "file_extension": ".py",
   "mimetype": "text/x-python",
   "name": "python",
   "nbconvert_exporter": "python",
   "pygments_lexer": "ipython3",
   "version": "3.10.9"
  },
  "orig_nbformat": 4,
  "vscode": {
   "interpreter": {
    "hash": "62fa236e682458962f4073196426f9cb543745cfe6ded415d2941efab9cbcbe2"
   }
  }
 },
 "nbformat": 4,
 "nbformat_minor": 2
}
