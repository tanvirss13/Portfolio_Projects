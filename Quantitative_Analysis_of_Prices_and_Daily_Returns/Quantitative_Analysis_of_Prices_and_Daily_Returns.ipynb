{
 "cells": [
  {
   "cell_type": "markdown",
   "id": "6d21de72",
   "metadata": {},
   "source": [
    "<h1> Quantitative Analysis of Price & Daily Returns </h1>\n",
    "\n",
    "<ul>\n",
    "    <li> Can returns be described with a normal distribution? </li>\n",
    "    <li> Is there directional bias in daily change? </li>\n",
    "    <li> Can price movement be described as a random walk? </li>\n",
    "</ul>"
   ]
  },
  {
   "cell_type": "markdown",
   "id": "ac7caa8a",
   "metadata": {},
   "source": [
    "<h3> 1. Setting up the environment </h3>"
   ]
  },
  {
   "cell_type": "code",
   "execution_count": 109,
   "id": "d6ff6c94",
   "metadata": {},
   "outputs": [],
   "source": [
    "import numpy as np\n",
    "import pandas as pd\n",
    "import pandas_datareader.data as web\n",
    "import yfinance as fin\n",
    "import datetime as dt\n",
    "import quandl as qdl\n",
    "import matplotlib.pyplot as plt\n",
    "import os\n",
    "from scipy import stats\n",
    "from scipy.stats import norm\n",
    "from matplotlib import rcParams as rcp\n",
    "rcp['figure.figsize'] = 8, 6\n",
    "import seaborn as sb\n",
    "sb.set()"
   ]
  },
  {
   "cell_type": "markdown",
   "id": "3d512b74",
   "metadata": {},
   "source": [
    "<h3> 2. Download stock price data, store in dataframe </h3>"
   ]
  },
  {
   "cell_type": "code",
   "execution_count": 92,
   "id": "cf1b11ca",
   "metadata": {},
   "outputs": [],
   "source": [
    "start_date = dt.datetime(2012,5,18)\n",
    "end_date = dt.datetime(2023,1,10)\n",
    "symbols = ['NVDA', 'VWDRY', 'OLED', 'TSM', 'SONO', 'PAG', 'MDT', 'LLY', 'GLNCY', 'GVDNY', 'EMR', 'EBAY', 'CRWD', 'COO',\n",
    "          'STZ', 'CMSQY', 'CTSH', 'CB', 'CF', 'BF.B', 'BK', 'ASML', 'AMGN', 'ALSN', 'EADSY', 'ADDYY', 'SPCE', 'LCID', 'BMBL', 'SNAP',\n",
    "          'AAPL', 'TSLA', 'NFLX', 'META', 'MSFT', 'DIS', 'GPRO', 'SBUX', 'F', 'BABA', 'BAC', 'GE', 'AMZN']\n",
    "fb = fin.Ticker(\"META\")\n",
    "fb_hist = fb.history(start = start_date, end = end_date)"
   ]
  },
  {
   "cell_type": "markdown",
   "id": "70c40d2e",
   "metadata": {},
   "source": [
    "<h3> 3. Viewing Data </h3>"
   ]
  },
  {
   "cell_type": "code",
   "execution_count": 93,
   "id": "8a5dba20",
   "metadata": {},
   "outputs": [
    {
     "data": {
      "text/html": [
       "<div>\n",
       "<style scoped>\n",
       "    .dataframe tbody tr th:only-of-type {\n",
       "        vertical-align: middle;\n",
       "    }\n",
       "\n",
       "    .dataframe tbody tr th {\n",
       "        vertical-align: top;\n",
       "    }\n",
       "\n",
       "    .dataframe thead th {\n",
       "        text-align: right;\n",
       "    }\n",
       "</style>\n",
       "<table border=\"1\" class=\"dataframe\">\n",
       "  <thead>\n",
       "    <tr style=\"text-align: right;\">\n",
       "      <th></th>\n",
       "      <th>Open</th>\n",
       "      <th>High</th>\n",
       "      <th>Low</th>\n",
       "      <th>Close</th>\n",
       "      <th>Volume</th>\n",
       "      <th>Dividends</th>\n",
       "      <th>Stock Splits</th>\n",
       "    </tr>\n",
       "    <tr>\n",
       "      <th>Date</th>\n",
       "      <th></th>\n",
       "      <th></th>\n",
       "      <th></th>\n",
       "      <th></th>\n",
       "      <th></th>\n",
       "      <th></th>\n",
       "      <th></th>\n",
       "    </tr>\n",
       "  </thead>\n",
       "  <tbody>\n",
       "    <tr>\n",
       "      <th>2012-05-18 00:00:00-04:00</th>\n",
       "      <td>42.049999</td>\n",
       "      <td>45.000000</td>\n",
       "      <td>38.000000</td>\n",
       "      <td>38.230000</td>\n",
       "      <td>573576400</td>\n",
       "      <td>0</td>\n",
       "      <td>0</td>\n",
       "    </tr>\n",
       "    <tr>\n",
       "      <th>2012-05-21 00:00:00-04:00</th>\n",
       "      <td>36.529999</td>\n",
       "      <td>36.660000</td>\n",
       "      <td>33.000000</td>\n",
       "      <td>34.029999</td>\n",
       "      <td>168192700</td>\n",
       "      <td>0</td>\n",
       "      <td>0</td>\n",
       "    </tr>\n",
       "    <tr>\n",
       "      <th>2012-05-22 00:00:00-04:00</th>\n",
       "      <td>32.610001</td>\n",
       "      <td>33.590000</td>\n",
       "      <td>30.940001</td>\n",
       "      <td>31.000000</td>\n",
       "      <td>101786600</td>\n",
       "      <td>0</td>\n",
       "      <td>0</td>\n",
       "    </tr>\n",
       "    <tr>\n",
       "      <th>2012-05-23 00:00:00-04:00</th>\n",
       "      <td>31.370001</td>\n",
       "      <td>32.500000</td>\n",
       "      <td>31.360001</td>\n",
       "      <td>32.000000</td>\n",
       "      <td>73600000</td>\n",
       "      <td>0</td>\n",
       "      <td>0</td>\n",
       "    </tr>\n",
       "    <tr>\n",
       "      <th>2012-05-24 00:00:00-04:00</th>\n",
       "      <td>32.950001</td>\n",
       "      <td>33.209999</td>\n",
       "      <td>31.770000</td>\n",
       "      <td>33.029999</td>\n",
       "      <td>50237200</td>\n",
       "      <td>0</td>\n",
       "      <td>0</td>\n",
       "    </tr>\n",
       "  </tbody>\n",
       "</table>\n",
       "</div>"
      ],
      "text/plain": [
       "                                Open       High        Low      Close  \\\n",
       "Date                                                                    \n",
       "2012-05-18 00:00:00-04:00  42.049999  45.000000  38.000000  38.230000   \n",
       "2012-05-21 00:00:00-04:00  36.529999  36.660000  33.000000  34.029999   \n",
       "2012-05-22 00:00:00-04:00  32.610001  33.590000  30.940001  31.000000   \n",
       "2012-05-23 00:00:00-04:00  31.370001  32.500000  31.360001  32.000000   \n",
       "2012-05-24 00:00:00-04:00  32.950001  33.209999  31.770000  33.029999   \n",
       "\n",
       "                              Volume  Dividends  Stock Splits  \n",
       "Date                                                           \n",
       "2012-05-18 00:00:00-04:00  573576400          0             0  \n",
       "2012-05-21 00:00:00-04:00  168192700          0             0  \n",
       "2012-05-22 00:00:00-04:00  101786600          0             0  \n",
       "2012-05-23 00:00:00-04:00   73600000          0             0  \n",
       "2012-05-24 00:00:00-04:00   50237200          0             0  "
      ]
     },
     "execution_count": 93,
     "metadata": {},
     "output_type": "execute_result"
    }
   ],
   "source": [
    "fb_hist.head()"
   ]
  },
  {
   "cell_type": "markdown",
   "id": "b5498298",
   "metadata": {},
   "source": [
    "<h3> 4. Store instantaneous rate of return in separate series </h3>"
   ]
  },
  {
   "cell_type": "code",
   "execution_count": 173,
   "id": "cdf31172",
   "metadata": {},
   "outputs": [
    {
     "data": {
      "text/html": [
       "<div>\n",
       "<style scoped>\n",
       "    .dataframe tbody tr th:only-of-type {\n",
       "        vertical-align: middle;\n",
       "    }\n",
       "\n",
       "    .dataframe tbody tr th {\n",
       "        vertical-align: top;\n",
       "    }\n",
       "\n",
       "    .dataframe thead th {\n",
       "        text-align: right;\n",
       "    }\n",
       "</style>\n",
       "<table border=\"1\" class=\"dataframe\">\n",
       "  <thead>\n",
       "    <tr style=\"text-align: right;\">\n",
       "      <th></th>\n",
       "      <th>Close</th>\n",
       "    </tr>\n",
       "    <tr>\n",
       "      <th>Date</th>\n",
       "      <th></th>\n",
       "    </tr>\n",
       "  </thead>\n",
       "  <tbody>\n",
       "    <tr>\n",
       "      <th>2012-05-21 00:00:00-04:00</th>\n",
       "      <td>-11.64</td>\n",
       "    </tr>\n",
       "    <tr>\n",
       "      <th>2012-05-22 00:00:00-04:00</th>\n",
       "      <td>-9.33</td>\n",
       "    </tr>\n",
       "    <tr>\n",
       "      <th>2012-05-23 00:00:00-04:00</th>\n",
       "      <td>3.17</td>\n",
       "    </tr>\n",
       "    <tr>\n",
       "      <th>2012-05-24 00:00:00-04:00</th>\n",
       "      <td>3.17</td>\n",
       "    </tr>\n",
       "    <tr>\n",
       "      <th>2012-05-25 00:00:00-04:00</th>\n",
       "      <td>-3.45</td>\n",
       "    </tr>\n",
       "  </tbody>\n",
       "</table>\n",
       "</div>"
      ],
      "text/plain": [
       "                           Close\n",
       "Date                            \n",
       "2012-05-21 00:00:00-04:00 -11.64\n",
       "2012-05-22 00:00:00-04:00  -9.33\n",
       "2012-05-23 00:00:00-04:00   3.17\n",
       "2012-05-24 00:00:00-04:00   3.17\n",
       "2012-05-25 00:00:00-04:00  -3.45"
      ]
     },
     "execution_count": 173,
     "metadata": {},
     "output_type": "execute_result"
    }
   ],
   "source": [
    "fb_close = fb_hist['Close']\n",
    "fb_ret = pd.DataFrame(round(np.log(fb_close).diff() * 100, 2))\n",
    "fb_ret.dropna(inplace = True)\n",
    "fb_ret.head()"
   ]
  },
  {
   "cell_type": "markdown",
   "id": "d2e4922a",
   "metadata": {},
   "source": [
    "<h3> 5. Plot the series </h3>"
   ]
  },
  {
   "cell_type": "code",
   "execution_count": 121,
   "id": "94dd4f6c",
   "metadata": {},
   "outputs": [
    {
     "data": {
      "text/plain": [
       "<AxesSubplot:xlabel='Date'>"
      ]
     },
     "execution_count": 121,
     "metadata": {},
     "output_type": "execute_result"
    },
    {
     "data": {
      "image/png": "[encoded data removed]",
      "text/plain": [
       "<Figure size 576x432 with 1 Axes>"
      ]
     },
     "metadata": {},
     "output_type": "display_data"
    }
   ],
   "source": [
    "fb_ret.plot()"
   ]
  },
  {
   "cell_type": "markdown",
   "id": "62576f48",
   "metadata": {},
   "source": [
    "<h3> 6. Describing function using descreptive statistics, default assumes we are dealing eith a sample Pandas also deals with missing vallues by omitting them </h3>"
   ]
  },
  {
   "cell_type": "code",
   "execution_count": 122,
   "id": "e1e03f54",
   "metadata": {},
   "outputs": [
    {
     "data": {
      "text/html": [
       "<div>\n",
       "<style scoped>\n",
       "    .dataframe tbody tr th:only-of-type {\n",
       "        vertical-align: middle;\n",
       "    }\n",
       "\n",
       "    .dataframe tbody tr th {\n",
       "        vertical-align: top;\n",
       "    }\n",
       "\n",
       "    .dataframe thead th {\n",
       "        text-align: right;\n",
       "    }\n",
       "</style>\n",
       "<table border=\"1\" class=\"dataframe\">\n",
       "  <thead>\n",
       "    <tr style=\"text-align: right;\">\n",
       "      <th></th>\n",
       "      <th>Close</th>\n",
       "    </tr>\n",
       "  </thead>\n",
       "  <tbody>\n",
       "    <tr>\n",
       "      <th>count</th>\n",
       "      <td>2677.000000</td>\n",
       "    </tr>\n",
       "    <tr>\n",
       "      <th>mean</th>\n",
       "      <td>0.045532</td>\n",
       "    </tr>\n",
       "    <tr>\n",
       "      <th>std</th>\n",
       "      <td>2.542526</td>\n",
       "    </tr>\n",
       "    <tr>\n",
       "      <th>min</th>\n",
       "      <td>-30.640000</td>\n",
       "    </tr>\n",
       "    <tr>\n",
       "      <th>25%</th>\n",
       "      <td>-1.020000</td>\n",
       "    </tr>\n",
       "    <tr>\n",
       "      <th>50%</th>\n",
       "      <td>0.090000</td>\n",
       "    </tr>\n",
       "    <tr>\n",
       "      <th>75%</th>\n",
       "      <td>1.260000</td>\n",
       "    </tr>\n",
       "    <tr>\n",
       "      <th>max</th>\n",
       "      <td>25.940000</td>\n",
       "    </tr>\n",
       "  </tbody>\n",
       "</table>\n",
       "</div>"
      ],
      "text/plain": [
       "             Close\n",
       "count  2677.000000\n",
       "mean      0.045532\n",
       "std       2.542526\n",
       "min     -30.640000\n",
       "25%      -1.020000\n",
       "50%       0.090000\n",
       "75%       1.260000\n",
       "max      25.940000"
      ]
     },
     "execution_count": 122,
     "metadata": {},
     "output_type": "execute_result"
    }
   ],
   "source": [
    "fb_ret.describe()"
   ]
  },
  {
   "cell_type": "markdown",
   "id": "01dd25c9",
   "metadata": {},
   "source": [
    "<h3> 7. An alternative table of descriptives from scipy stats </h3>"
   ]
  },
  {
   "cell_type": "code",
   "execution_count": 136,
   "id": "f60f1036",
   "metadata": {},
   "outputs": [
    {
     "data": {
      "text/plain": [
       "array([2.54252575])"
      ]
     },
     "execution_count": 136,
     "metadata": {},
     "output_type": "execute_result"
    }
   ],
   "source": [
    "n, minmax, mean, var, skew, kurt = stats.describe(fb_ret)\n",
    "mini, maxi = minmax\n",
    "std = np.sqrt(var)"
   ]
  },
  {
   "cell_type": "markdown",
   "id": "9bf7d7b3",
   "metadata": {},
   "source": [
    "<ul>\n",
    "    <li> Looking just a the skewness we see a suggested tilt towards the left. </li>\n",
    "</ul>"
   ]
  },
  {
   "cell_type": "markdown",
   "id": "8e3eb31e",
   "metadata": {},
   "source": [
    "<h3> 8. For comparison we generate random numbers that follow normal distribution </h3>"
   ]
  },
  {
   "cell_type": "code",
   "execution_count": 148,
   "id": "71bd16f5",
   "metadata": {},
   "outputs": [
    {
     "data": {
      "image/png": "[encoded data removed]",
      "text/plain": [
       "<Figure size 576x432 with 1 Axes>"
      ]
     },
     "metadata": {},
     "output_type": "display_data"
    }
   ],
   "source": [
    "plt.hist(fb_ret, bins = 15);"
   ]
  },
  {
   "cell_type": "code",
   "execution_count": 145,
   "id": "b7a0abde",
   "metadata": {},
   "outputs": [
    {
     "data": {
      "image/png": "[encoded data removed]",
      "text/plain": [
       "<Figure size 576x432 with 1 Axes>"
      ]
     },
     "metadata": {},
     "output_type": "display_data"
    }
   ],
   "source": [
    "x = norm.rvs(mean, std, n)\n",
    "plt.hist(x, bins = 20);"
   ]
  },
  {
   "cell_type": "markdown",
   "id": "e5ecad3a",
   "metadata": {},
   "source": [
    "<h2> Is price change normally distributed? </h2>"
   ]
  },
  {
   "cell_type": "markdown",
   "id": "951648b6",
   "metadata": {},
   "source": [
    "<h3> 9. Testing Kurtosis </h3>\n",
    "<ul> \n",
    "    <li> Null Hypothesis: Sample is drawn from a population where where the underlying kurtosis is that of a normally distributed variable </li>\n",
    "    <li> Alternate Hypothesis: Sample is not drawn from a population where where the underlying kurtosis is that of a normally distributed variable </li>\n",
    "</ul>"
   ]
  },
  {
   "cell_type": "code",
   "execution_count": 175,
   "id": "17d659ff",
   "metadata": {},
   "outputs": [
    {
     "name": "stdout",
     "output_type": "stream",
     "text": [
      "      Test statistic        p-value\n",
      "     ------------------------------\n",
      "x:             1.20          0.2305\n",
      "META:         26.47          0.0000\n"
     ]
    }
   ],
   "source": [
    "x_test = stats.kurtosistest(x)\n",
    "fb_ret1 = round(np.log(fb_close).diff() * 100, 2)\n",
    "fb_ret1.dropna(inplace = True)\n",
    "fb_test = stats.kurtosistest(fb_ret1)\n",
    "print(f'{\"      Test statistic\":20}{\"p-value\": >15}')\n",
    "print(f'{\" \"*5}{\"-\"* 30}')\n",
    "print(f\"x:{x_test[0]:>17.2f}{x_test[1]:16.4f}\")\n",
    "print(f\"META: {fb_test[0]:13.2f}{fb_test[1]:16.4f}\")\n"
   ]
  },
  {
   "cell_type": "markdown",
   "id": "761953af",
   "metadata": {},
   "source": [
    "<h3> 10. Plot histogram of Price changes with Normal Curve overlay </h3>"
   ]
  },
  {
   "cell_type": "code",
   "execution_count": 176,
   "id": "88689075",
   "metadata": {},
   "outputs": [
    {
     "data": {
      "text/plain": [
       "[<matplotlib.lines.Line2D at 0x7f967f2646d0>]"
      ]
     },
     "execution_count": 176,
     "metadata": {},
     "output_type": "execute_result"
    },
    {
     "data": {
      "image/png": "[encoded data removed]",
      "text/plain": [
       "<Figure size 576x432 with 1 Axes>"
      ]
     },
     "metadata": {},
     "output_type": "display_data"
    }
   ],
   "source": [
    "plt.hist(fb_ret,bins = 25, edgecolor = 'w', density = True)\n",
    "overlay = np.linspace(mini,maxi,100)\n",
    "plt.plot(overlay, norm.pdf(overlay, mean, std))"
   ]
  },
  {
   "cell_type": "markdown",
   "id": "da17c6d5",
   "metadata": {},
   "source": [
    "<h2> Is daily price change significantly different from zero? </h2>"
   ]
  },
  {
   "cell_type": "markdown",
   "id": "16423a9b",
   "metadata": {},
   "source": [
    "<h3> 11. Conduct simple hypothesis test </h3>"
   ]
  },
  {
   "cell_type": "code",
   "execution_count": 183,
   "id": "005b706d",
   "metadata": {},
   "outputs": [
    {
     "data": {
      "text/plain": [
       "Ttest_1sampResult(statistic=0.9265706317074835, pvalue=0.35423306469349913)"
      ]
     },
     "execution_count": 183,
     "metadata": {},
     "output_type": "execute_result"
    }
   ],
   "source": [
    "stats.ttest_1samp(fb_ret1,0,alternative = 'two-sided')"
   ]
  },
  {
   "cell_type": "markdown",
   "id": "fcc523c9",
   "metadata": {},
   "source": [
    "<ul>\n",
    "    <li> Null hypothesis can be rejected as the P-value is less than 0.5. </li>\n",
    "</ul>"
   ]
  },
  {
   "cell_type": "markdown",
   "id": "a80c259f",
   "metadata": {},
   "source": [
    "<i> As the sample is too large for the T-test we make the sample smaller and take a sample of one year. </i>"
   ]
  },
  {
   "cell_type": "code",
   "execution_count": 185,
   "id": "79f69efb",
   "metadata": {},
   "outputs": [
    {
     "data": {
      "text/plain": [
       "Ttest_1sampResult(statistic=-0.5795325488108393, pvalue=0.5627496760715098)"
      ]
     },
     "execution_count": 185,
     "metadata": {},
     "output_type": "execute_result"
    }
   ],
   "source": [
    "stats.ttest_1samp(fb_ret1.sample(252),0,alternative = 'two-sided')"
   ]
  },
  {
   "cell_type": "markdown",
   "id": "3dd150b8",
   "metadata": {},
   "source": [
    "<h2> Can price movement be described as a random walk? </h2>"
   ]
  },
  {
   "cell_type": "markdown",
   "id": "47c39b6e",
   "metadata": {},
   "source": [
    "<h3> 12. Creating price lags </h3>"
   ]
  },
  {
   "cell_type": "code",
   "execution_count": 190,
   "id": "6442d67f",
   "metadata": {},
   "outputs": [
    {
     "data": {
      "text/html": [
       "<div>\n",
       "<style scoped>\n",
       "    .dataframe tbody tr th:only-of-type {\n",
       "        vertical-align: middle;\n",
       "    }\n",
       "\n",
       "    .dataframe tbody tr th {\n",
       "        vertical-align: top;\n",
       "    }\n",
       "\n",
       "    .dataframe thead th {\n",
       "        text-align: right;\n",
       "    }\n",
       "</style>\n",
       "<table border=\"1\" class=\"dataframe\">\n",
       "  <thead>\n",
       "    <tr style=\"text-align: right;\">\n",
       "      <th></th>\n",
       "      <th>Close</th>\n",
       "      <th>lag_1</th>\n",
       "      <th>lag_2</th>\n",
       "    </tr>\n",
       "    <tr>\n",
       "      <th>Date</th>\n",
       "      <th></th>\n",
       "      <th></th>\n",
       "      <th></th>\n",
       "    </tr>\n",
       "  </thead>\n",
       "  <tbody>\n",
       "    <tr>\n",
       "      <th>2012-05-24 00:00:00-04:00</th>\n",
       "      <td>33.029999</td>\n",
       "      <td>32.000000</td>\n",
       "      <td>31.000000</td>\n",
       "    </tr>\n",
       "    <tr>\n",
       "      <th>2012-05-25 00:00:00-04:00</th>\n",
       "      <td>31.910000</td>\n",
       "      <td>33.029999</td>\n",
       "      <td>32.000000</td>\n",
       "    </tr>\n",
       "    <tr>\n",
       "      <th>2012-05-29 00:00:00-04:00</th>\n",
       "      <td>28.840000</td>\n",
       "      <td>31.910000</td>\n",
       "      <td>33.029999</td>\n",
       "    </tr>\n",
       "    <tr>\n",
       "      <th>2012-05-30 00:00:00-04:00</th>\n",
       "      <td>28.190001</td>\n",
       "      <td>28.840000</td>\n",
       "      <td>31.910000</td>\n",
       "    </tr>\n",
       "    <tr>\n",
       "      <th>2012-05-31 00:00:00-04:00</th>\n",
       "      <td>29.600000</td>\n",
       "      <td>28.190001</td>\n",
       "      <td>28.840000</td>\n",
       "    </tr>\n",
       "  </tbody>\n",
       "</table>\n",
       "</div>"
      ],
      "text/plain": [
       "                               Close      lag_1      lag_2\n",
       "Date                                                      \n",
       "2012-05-24 00:00:00-04:00  33.029999  32.000000  31.000000\n",
       "2012-05-25 00:00:00-04:00  31.910000  33.029999  32.000000\n",
       "2012-05-29 00:00:00-04:00  28.840000  31.910000  33.029999\n",
       "2012-05-30 00:00:00-04:00  28.190001  28.840000  31.910000\n",
       "2012-05-31 00:00:00-04:00  29.600000  28.190001  28.840000"
      ]
     },
     "execution_count": 190,
     "metadata": {},
     "output_type": "execute_result"
    }
   ],
   "source": [
    "fb_close = pd.DataFrame(fb_close, columns = ['Close'])\n",
    "fb_close['lag_1'] = fb_close.Close.shift(1)\n",
    "fb_close['lag_2'] = fb_close.Close.shift(2)\n",
    "fb_close.dropna(inplace = True)\n",
    "fb_close.head()"
   ]
  },
  {
   "cell_type": "markdown",
   "id": "a9c0c66b",
   "metadata": {},
   "source": [
    "<h3> 13. Fit Linear Model </h3>"
   ]
  },
  {
   "cell_type": "code",
   "execution_count": 198,
   "id": "70710e55",
   "metadata": {},
   "outputs": [
    {
     "data": {
      "text/plain": [
       "array([0.95454467, 0.04528029])"
      ]
     },
     "execution_count": 198,
     "metadata": {},
     "output_type": "execute_result"
    }
   ],
   "source": [
    "lr = np.linalg.lstsq(fb_close[['lag_1', 'lag_2']], fb_close['Close'], rcond = None)[0]\n",
    "lr"
   ]
  },
  {
   "cell_type": "code",
   "execution_count": 199,
   "id": "144d3f49",
   "metadata": {},
   "outputs": [
    {
     "data": {
      "text/html": [
       "<div>\n",
       "<style scoped>\n",
       "    .dataframe tbody tr th:only-of-type {\n",
       "        vertical-align: middle;\n",
       "    }\n",
       "\n",
       "    .dataframe tbody tr th {\n",
       "        vertical-align: top;\n",
       "    }\n",
       "\n",
       "    .dataframe thead th {\n",
       "        text-align: right;\n",
       "    }\n",
       "</style>\n",
       "<table border=\"1\" class=\"dataframe\">\n",
       "  <thead>\n",
       "    <tr style=\"text-align: right;\">\n",
       "      <th></th>\n",
       "      <th>Close</th>\n",
       "      <th>lag_1</th>\n",
       "      <th>lag_2</th>\n",
       "      <th>Predict</th>\n",
       "    </tr>\n",
       "    <tr>\n",
       "      <th>Date</th>\n",
       "      <th></th>\n",
       "      <th></th>\n",
       "      <th></th>\n",
       "      <th></th>\n",
       "    </tr>\n",
       "  </thead>\n",
       "  <tbody>\n",
       "    <tr>\n",
       "      <th>2012-05-24 00:00:00-04:00</th>\n",
       "      <td>33.029999</td>\n",
       "      <td>32.000000</td>\n",
       "      <td>31.000000</td>\n",
       "      <td>31.949119</td>\n",
       "    </tr>\n",
       "    <tr>\n",
       "      <th>2012-05-25 00:00:00-04:00</th>\n",
       "      <td>31.910000</td>\n",
       "      <td>33.029999</td>\n",
       "      <td>32.000000</td>\n",
       "      <td>32.977579</td>\n",
       "    </tr>\n",
       "    <tr>\n",
       "      <th>2012-05-29 00:00:00-04:00</th>\n",
       "      <td>28.840000</td>\n",
       "      <td>31.910000</td>\n",
       "      <td>33.029999</td>\n",
       "      <td>31.955128</td>\n",
       "    </tr>\n",
       "    <tr>\n",
       "      <th>2012-05-30 00:00:00-04:00</th>\n",
       "      <td>28.190001</td>\n",
       "      <td>28.840000</td>\n",
       "      <td>31.910000</td>\n",
       "      <td>28.973963</td>\n",
       "    </tr>\n",
       "    <tr>\n",
       "      <th>2012-05-31 00:00:00-04:00</th>\n",
       "      <td>29.600000</td>\n",
       "      <td>28.190001</td>\n",
       "      <td>28.840000</td>\n",
       "      <td>28.214499</td>\n",
       "    </tr>\n",
       "  </tbody>\n",
       "</table>\n",
       "</div>"
      ],
      "text/plain": [
       "                               Close      lag_1      lag_2    Predict\n",
       "Date                                                                 \n",
       "2012-05-24 00:00:00-04:00  33.029999  32.000000  31.000000  31.949119\n",
       "2012-05-25 00:00:00-04:00  31.910000  33.029999  32.000000  32.977579\n",
       "2012-05-29 00:00:00-04:00  28.840000  31.910000  33.029999  31.955128\n",
       "2012-05-30 00:00:00-04:00  28.190001  28.840000  31.910000  28.973963\n",
       "2012-05-31 00:00:00-04:00  29.600000  28.190001  28.840000  28.214499"
      ]
     },
     "execution_count": 199,
     "metadata": {},
     "output_type": "execute_result"
    }
   ],
   "source": [
    "fb_close['Predict'] = np.dot(fb_close[['lag_1', 'lag_2']], lr)\n",
    "fb_close.head()"
   ]
  },
  {
   "cell_type": "markdown",
   "id": "d0ee7d7a",
   "metadata": {},
   "source": [
    "<h3> 14. Visualizing the Close Price and Predicted Price </h3>"
   ]
  },
  {
   "cell_type": "code",
   "execution_count": 200,
   "id": "e1329730",
   "metadata": {},
   "outputs": [
    {
     "data": {
      "text/plain": [
       "<AxesSubplot:xlabel='Date'>"
      ]
     },
     "execution_count": 200,
     "metadata": {},
     "output_type": "execute_result"
    },
    {
     "data": {
      "image/png": "[encoded data removed]",
      "text/plain": [
       "<Figure size 576x432 with 1 Axes>"
      ]
     },
     "metadata": {},
     "output_type": "display_data"
    }
   ],
   "source": [
    "fb_close[['Close', 'Predict']].plot()"
   ]
  },
  {
   "cell_type": "code",
   "execution_count": 201,
   "id": "3612adc9",
   "metadata": {},
   "outputs": [
    {
     "data": {
      "text/plain": [
       "<AxesSubplot:xlabel='Date'>"
      ]
     },
     "execution_count": 201,
     "metadata": {},
     "output_type": "execute_result"
    },
    {
     "data": {
      "image/png": "[encoded data removed]",
      "text/plain": [
       "<Figure size 576x432 with 1 Axes>"
      ]
     },
     "metadata": {},
     "output_type": "display_data"
    }
   ],
   "source": [
    "fb_close.iloc[-252:][['Close', 'Predict']].plot()"
   ]
  }
 ],
 "metadata": {
  "kernelspec": {
   "display_name": "Python 3 (ipykernel)",
   "language": "python",
   "name": "python3"
  },
  "language_info": {
   "codemirror_mode": {
    "name": "ipython",
    "version": 3
   },
   "file_extension": ".py",
   "mimetype": "text/x-python",
   "name": "python",
   "nbconvert_exporter": "python",
   "pygments_lexer": "ipython3",
   "version": "3.9.5"
  }
 },
 "nbformat": 4,
 "nbformat_minor": 5
}
